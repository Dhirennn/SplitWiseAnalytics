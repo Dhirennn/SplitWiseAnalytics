{
 "cells": [
  {
   "cell_type": "markdown",
   "metadata": {
    "id": "Z1TXiYxumsEJ"
   },
   "source": [
    "# Google-Play-Scraper provides APIs to easily crawl the Google Play Store for Python without any external dependencies!"
   ]
  },
  {
   "cell_type": "markdown",
   "metadata": {
    "id": "3FlrAXBm7xh_"
   },
   "source": [
    "### API to get app information on Google Play"
   ]
  },
  {
   "cell_type": "code",
   "execution_count": 1,
   "metadata": {
    "executionInfo": {
     "elapsed": 479,
     "status": "ok",
     "timestamp": 1711358748392,
     "user": {
      "displayName": "Tuấn CR7",
      "userId": "15772439786063649064"
     },
     "user_tz": -420
    },
    "id": "5fdnQBwg7fzG"
   },
   "outputs": [],
   "source": [
    "from google_play_scraper import app\n",
    "\n",
    "result = app(\n",
    "    'com.Splitwise.SplitwiseMobile',\n",
    "    lang='en', # defaults to 'en'\n",
    "    country='us' # defaults to 'us'\n",
    ")"
   ]
  },
  {
   "cell_type": "code",
   "execution_count": 2,
   "metadata": {
    "colab": {
     "base_uri": "https://localhost:8080/"
    },
    "executionInfo": {
     "elapsed": 368,
     "status": "ok",
     "timestamp": 1711358792769,
     "user": {
      "displayName": "Tuấn CR7",
      "userId": "15772439786063649064"
     },
     "user_tz": -420
    },
    "id": "PAaJFBUN7jTO",
    "outputId": "535828d0-bebd-44de-98a8-5e91a5d5750a"
   },
   "outputs": [
    {
     "name": "stdout",
     "output_type": "stream",
     "text": [
      "App detail : \n",
      " {'title': 'Splitwise', 'description': 'Splitwise is the easiest way to share expenses with friends and family and stop stressing about “who owes who.” Millions of people around the world use Splitwise to organize group bills for households, trips, and more. Our mission is to reduce the stress and awkwardness that money places on our most important relationships.\\r\\n \\r\\nSplitwise is great for:\\r\\n- Roommates splitting rent and apartment bills\\r\\n- Group trips around the world\\r\\n- Splitting a vacation house for skiing or at the beach\\r\\n- Weddings and bachelor/bachelorette parties\\r\\n- Couples sharing relationship costs\\r\\n- Friends and co-workers who go out to lunch or dinner together frequently\\r\\n- Loans and IOUs between friends \\r\\n- And so much more\\r\\n\\r\\nSplitwise is simple to use:\\r\\n- Create groups or private friendships for any splitting situation\\r\\n- Add expenses, IOUs, or informal debts in any currency, with support for offline entry\\r\\n- Expenses are backed up online so any everyone can log in, view their balances, and add expenses\\r\\n- Keep track of who should pay next, or settle up by recording cash payments or using our integrations\\r\\n \\r\\nEndorsements:\\r\\n“Makes it easy to split everything from your dinner bill to rent.” - NY Times\\r\\n\"Fundamental for tracking finances. As good as WhatsApp for containing awkwardness.\" – The Financial Times\\r\\n“I never fight with roommates over bills because of this genius expense-splitting app”- Business Insider\\r\\n“The Single Best App You Can Download for Group Trips of Any Kind” - Thrillist\\r\\n \\r\\nHere are some of our industry-leading features:\\r\\n- Multi-platform support for Android, iOS, and web\\r\\n- Simplify debts into the easiest repayment plan\\r\\n- Expense categorization\\r\\n- Calculate group totals\\r\\n- Export to CSV\\r\\n- Comment directly on expenses\\r\\n- Split expenses equally or unequally by percentages, shares, or exact amounts\\r\\n- Add informal debts and IOUs\\r\\n- Create bills that recur monthly, weekly, yearly, fortnightly\\r\\n- Add multiple payers on a single expense\\r\\n- See total balances with a person across multiple groups and private expenses\\r\\n- Custom user avatars\\r\\n- Cover photos for groups \\r\\n- Activity feed and push notifications help you stay on top of changes\\r\\n- View your edit history for changes to an expense\\r\\n- Any deleted group or bill can be restored easily\\r\\n- World-class customer support\\r\\n- Pay back using our integrated payments: Venmo and PayPal (US only), Paytm (India only)\\r\\n- 100+ currencies and growing\\r\\n- 7+ supported languages\\r\\n\\r\\nGet Splitwise Pro for even more amazing features!\\r\\n- Convert expenses to different currencies using our Open Exchange Rates integration\\r\\n- Access to “spending by category” budgeting tools and other charts\\r\\n- OCR integration for scanning and itemizing receipts\\r\\n- Store high-resolution receipts in the cloud (10GB cloud storage)\\r\\n- Backups to JSON, downloadable from our website\\r\\n- Search full expense history\\r\\n- Save default splits', 'descriptionHTML': 'Splitwise is the easiest way to share expenses with friends and family and stop stressing about “who owes who.” Millions of people around the world use Splitwise to organize group bills for households, trips, and more. Our mission is to reduce the stress and awkwardness that money places on our most important relationships.<br> <br>Splitwise is great for:<br>- Roommates splitting rent and apartment bills<br>- Group trips around the world<br>- Splitting a vacation house for skiing or at the beach<br>- Weddings and bachelor/bachelorette parties<br>- Couples sharing relationship costs<br>- Friends and co-workers who go out to lunch or dinner together frequently<br>- Loans and IOUs between friends <br>- And so much more<br><br>Splitwise is simple to use:<br>- Create groups or private friendships for any splitting situation<br>- Add expenses, IOUs, or informal debts in any currency, with support for offline entry<br>- Expenses are backed up online so any everyone can log in, view their balances, and add expenses<br>- Keep track of who should pay next, or settle up by recording cash payments or using our integrations<br> <br>Endorsements:<br>“Makes it easy to split everything from your dinner bill to rent.” - NY Times<br>&quot;Fundamental for tracking finances. As good as WhatsApp for containing awkwardness.&quot; – The Financial Times<br>“I never fight with roommates over bills because of this genius expense-splitting app”- Business Insider<br>“The Single Best App You Can Download for Group Trips of Any Kind” - Thrillist<br> <br>Here are some of our industry-leading features:<br>- Multi-platform support for Android, iOS, and web<br>- Simplify debts into the easiest repayment plan<br>- Expense categorization<br>- Calculate group totals<br>- Export to CSV<br>- Comment directly on expenses<br>- Split expenses equally or unequally by percentages, shares, or exact amounts<br>- Add informal debts and IOUs<br>- Create bills that recur monthly, weekly, yearly, fortnightly<br>- Add multiple payers on a single expense<br>- See total balances with a person across multiple groups and private expenses<br>- Custom user avatars<br>- Cover photos for groups <br>- Activity feed and push notifications help you stay on top of changes<br>- View your edit history for changes to an expense<br>- Any deleted group or bill can be restored easily<br>- World-class customer support<br>- Pay back using our integrated payments: Venmo and PayPal (US only), Paytm (India only)<br>- 100+ currencies and growing<br>- 7+ supported languages<br><br>Get Splitwise Pro for even more amazing features!<br>- Convert expenses to different currencies using our Open Exchange Rates integration<br>- Access to “spending by category” budgeting tools and other charts<br>- OCR integration for scanning and itemizing receipts<br>- Store high-resolution receipts in the cloud (10GB cloud storage)<br>- Backups to JSON, downloadable from our website<br>- Search full expense history<br>- Save default splits', 'summary': 'Split expenses with friends, roommates, group trips, and more', 'installs': '10,000,000+', 'minInstalls': 10000000, 'realInstalls': 25877906, 'score': 3.8436155, 'ratings': 165852, 'reviews': 7092, 'histogram': [39974, 5947, 2258, 9512, 108145], 'price': 0, 'free': True, 'currency': 'USD', 'sale': False, 'saleTime': None, 'originalPrice': None, 'saleText': None, 'offersIAP': True, 'inAppProductPrice': '$0.99 - $39.99 per item', 'developer': 'Splitwise', 'developerId': 'Splitwise', 'developerEmail': 'android-support@splitwise.com', 'developerWebsite': 'https://www.splitwise.com', 'developerAddress': 'Splitwise Inc.\\n150 Union St #606\\nProvidence, RI 02903', 'privacyPolicy': 'https://secure.splitwise.com/privacy', 'genre': 'Finance', 'genreId': 'FINANCE', 'categories': [{'name': 'Finance', 'id': 'FINANCE'}], 'icon': 'https://play-lh.googleusercontent.com/xextMuNptM547SMenMUaywqIWmvqekf-9urJfXF2N45r-lYH0an-bjgFO9IYzqgSkOTU', 'headerImage': 'https://play-lh.googleusercontent.com/cHL4BQwxjw686hBCAOGItQvCrOz6rdZR7bOyLtMecY1Rs0lAQ4KELKAJbj6J5kElLhU', 'screenshots': ['https://play-lh.googleusercontent.com/0MKv7lYaEMPidLqTcxfWVguYdAPdPYsDi20F9Q5RLmOHEhXqwatScXPx7MXS6LEleQ', 'https://play-lh.googleusercontent.com/qwDNymysNl6QfGV_t1M76SOvrk00VZIin4TNSsKte9onmWalyi5A7RWJkFqiU5s9zvk', 'https://play-lh.googleusercontent.com/RJ6cVroP1Y84AJnf6bi03RUoilxvarHJziDbChUQyWLSkwZoRzxvyN6dT9odnrrMIkk', 'https://play-lh.googleusercontent.com/OKAOoVUv26VHvoEBFMu1ADcvmNbZtJpdtcdNtkMWp3jCw4hvi5vRq0vk1KKmaNHxo4k', 'https://play-lh.googleusercontent.com/fuiVaqZkZG85J1wjlZOtq6D8RBWyYp72R0r3dtrbOkbn-DGyM9RLTyI1-Qz0nGbwdw'], 'video': None, 'videoImage': None, 'contentRating': 'Everyone', 'contentRatingDescription': None, 'adSupported': False, 'containsAds': False, 'released': 'Sep 12, 2011', 'lastUpdatedOn': 'Nov 27, 2024', 'updated': 1732740802, 'version': 'Varies with device', 'comments': [], 'appId': 'com.Splitwise.SplitwiseMobile', 'url': 'https://play.google.com/store/apps/details?id=com.Splitwise.SplitwiseMobile&hl=en&gl=us'}\n"
     ]
    }
   ],
   "source": [
    "print('App detail : \\n' , result)"
   ]
  },
  {
   "cell_type": "code",
   "execution_count": 3,
   "metadata": {
    "executionInfo": {
     "elapsed": 16,
     "status": "ok",
     "timestamp": 1711359244039,
     "user": {
      "displayName": "Tuấn CR7",
      "userId": "15772439786063649064"
     },
     "user_tz": -420
    },
    "id": "-0X2omdY8zBA"
   },
   "outputs": [],
   "source": [
    "import pandas as pd\n",
    "import os\n",
    "from google_play_scraper import Sort, reviews_all, reviews"
   ]
  },
  {
   "cell_type": "markdown",
   "metadata": {
    "id": "pW97NHvr9rmE"
   },
   "source": [
    "### reviews function allows you to crawl reviews from Google Play in batches, handling pagination automatically. By providing a continuation token from a previous call, you can resume crawling from the last fetched review. This approach ensures efficient retrieval of reviews while adhering to Google Play's limitations."
   ]
  },
  {
   "cell_type": "code",
   "execution_count": 4,
   "metadata": {
    "executionInfo": {
     "elapsed": 963,
     "status": "ok",
     "timestamp": 1711359899308,
     "user": {
      "displayName": "Tuấn CR7",
      "userId": "15772439786063649064"
     },
     "user_tz": -420
    },
    "id": "lIrSV2b18yH_"
   },
   "outputs": [],
   "source": [
    "\n",
    "result, continuation_token = reviews(\n",
    "    'com.Splitwise.SplitwiseMobile',\n",
    "    lang='en', # defaults to 'en'\n",
    "    country='us', # defaults to 'us'\n",
    "    sort=Sort.NEWEST, # defaults to Sort.NEWEST\n",
    "    count=3, # defaults to 100\n",
    "    filter_score_with=5 # defaults to None(means all score)\n",
    ")\n",
    "\n",
    "# If you pass `continuation_token` as an argument to the reviews function at this point,\n",
    "# it will crawl the items after 3 review items.\n",
    "\n",
    "result, _ = reviews(\n",
    "    'com.Splitwise.SplitwiseMobile',\n",
    "    continuation_token=continuation_token # defaults to None(load from the beginning)\n",
    ")"
   ]
  },
  {
   "cell_type": "code",
   "execution_count": 5,
   "metadata": {
    "colab": {
     "base_uri": "https://localhost:8080/"
    },
    "executionInfo": {
     "elapsed": 439,
     "status": "ok",
     "timestamp": 1711359902190,
     "user": {
      "displayName": "Tuấn CR7",
      "userId": "15772439786063649064"
     },
     "user_tz": -420
    },
    "id": "OzTpIe9Z99MS",
    "outputId": "b4f2ec8a-df57-4bdf-c8b1-a117abcc57d4"
   },
   "outputs": [
    {
     "name": "stdout",
     "output_type": "stream",
     "text": [
      "Results of 3 latest reviews : \n",
      " [{'reviewId': 'd8e736fc-79e2-4a86-99b8-eb45eed9eb35', 'userName': 'tarryn drabble', 'userImage': 'https://play-lh.googleusercontent.com/a-/ALV-UjWL0zY6JRoCQhy3whrEQdfHUhRs1wz3kAhK84Z7D1Gemkea-BOa', 'content': 'Brilliant app to keep up to date with splitting expenses with people', 'score': 5, 'thumbsUpCount': 0, 'reviewCreatedVersion': '24.11.1', 'at': datetime.datetime(2024, 12, 10, 21, 8, 10), 'replyContent': None, 'repliedAt': None, 'appVersion': '24.11.1'}, {'reviewId': '8f18f9b6-cc72-4388-a5f2-492763acb06a', 'userName': 'Crushy Tag heart', 'userImage': 'https://play-lh.googleusercontent.com/a/ACg8ocJHai2bwpMhPILdEw1YzpxjxEtBMTxa4RnOd6D839_41qMVvg=mo', 'content': 'Super', 'score': 5, 'thumbsUpCount': 0, 'reviewCreatedVersion': None, 'at': datetime.datetime(2024, 12, 10, 20, 44, 39), 'replyContent': None, 'repliedAt': None, 'appVersion': None}, {'reviewId': 'd7445352-8795-4817-8563-72de87fbec2a', 'userName': 'emilia mavrokordatou', 'userImage': 'https://play-lh.googleusercontent.com/a/ACg8ocKCttdioFfBghdhyNzZA3uwuxIPlgxsrv--bNaLhPqt5jeG3g=mo', 'content': 'Great to use on trips with friends or a group of people', 'score': 5, 'thumbsUpCount': 0, 'reviewCreatedVersion': '24.11.1', 'at': datetime.datetime(2024, 12, 10, 14, 10, 1), 'replyContent': None, 'repliedAt': None, 'appVersion': '24.11.1'}]\n"
     ]
    }
   ],
   "source": [
    "print('Results of 3 latest reviews : \\n', result)"
   ]
  },
  {
   "cell_type": "markdown",
   "metadata": {
    "id": "c4SnUw1A8FfC"
   },
   "source": [
    "### reviews_all function returns all of reviews from app. If you want to set the count to infinity while using the reviews function, you can use the reviews_all function"
   ]
  },
  {
   "cell_type": "code",
   "execution_count": 6,
   "metadata": {
    "colab": {
     "base_uri": "https://localhost:8080/"
    },
    "executionInfo": {
     "elapsed": 706,
     "status": "ok",
     "timestamp": 1711360234696,
     "user": {
      "displayName": "Tuấn CR7",
      "userId": "15772439786063649064"
     },
     "user_tz": -420
    },
    "id": "pNwQEuJy5wg9",
    "outputId": "33354514-5433-43c5-aa0d-d4cd234fe1b8"
   },
   "outputs": [
    {
     "name": "stdout",
     "output_type": "stream",
     "text": [
      "\n"
     ]
    }
   ],
   "source": [
    "# Get review data from Google Play Store\n",
    "results = reviews_all(\n",
    "    'com.Splitwise.SplitwiseMobile',\n",
    "    sleep_milliseconds=2, # defaults to 0\n",
    "    lang='en',\n",
    "    country='us',\n",
    "    count = 500,\n",
    "    sort=Sort.NEWEST # defaults to Sort.MOST_RELEVANT\n",
    ")\n",
    "\n",
    "# Create DataFrame from collected data\n",
    "df = pd.DataFrame(results)\n",
    "\n",
    "# Create a path to save data\n",
    "path = './Crawl_Dataset'\n",
    "\n",
    "# Save DataFrame to Google Drive as CSV\n",
    "df.to_csv(os.path.join(path, 'splitwise_reviews.csv'), index=False)\n",
    "\n",
    "# Show notification when saved successfully\n",
    "print(\"\")"
   ]
  }
 ],
 "metadata": {
  "colab": {
   "authorship_tag": "ABX9TyOE5Ghs1zzdMEpej5v3s4ND",
   "provenance": [],
   "toc_visible": true
  },
  "kernelspec": {
   "display_name": "Python 3 (ipykernel)",
   "language": "python",
   "name": "python3"
  },
  "language_info": {
   "codemirror_mode": {
    "name": "ipython",
    "version": 3
   },
   "file_extension": ".py",
   "mimetype": "text/x-python",
   "name": "python",
   "nbconvert_exporter": "python",
   "pygments_lexer": "ipython3",
   "version": "3.10.4"
  }
 },
 "nbformat": 4,
 "nbformat_minor": 4
}
